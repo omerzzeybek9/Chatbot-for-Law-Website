{
 "cells": [
  {
   "cell_type": "code",
   "execution_count": 1,
   "metadata": {
    "ExecuteTime": {
     "end_time": "2024-08-24T14:55:47.697953Z",
     "start_time": "2024-08-24T14:55:46.072186Z"
    }
   },
   "outputs": [],
   "source": [
    "import openai"
   ]
  },
  {
   "cell_type": "code",
   "execution_count": 2,
   "metadata": {
    "ExecuteTime": {
     "end_time": "2024-08-24T14:55:58.496313Z",
     "start_time": "2024-08-24T14:55:54.174590Z"
    }
   },
   "outputs": [],
   "source": [
    "openai.api_key = \"api\"\n",
    "\n",
    "response = openai.files.create(\n",
    "    file = open(\"chat_format.jsonl\", \"rb\"),\n",
    "    purpose = \"fine-tune\"\n",
    ")"
   ]
  },
  {
   "cell_type": "code",
   "execution_count": 3,
   "metadata": {
    "ExecuteTime": {
     "end_time": "2024-08-24T14:55:59.765033Z",
     "start_time": "2024-08-24T14:55:59.761054Z"
    }
   },
   "outputs": [],
   "source": [
    "response"
   ]
  },
  {
   "cell_type": "code",
   "execution_count": 4,
   "metadata": {
    "ExecuteTime": {
     "end_time": "2024-08-24T14:56:16.906788Z",
     "start_time": "2024-08-24T14:56:15.751112Z"
    }
   },
   "outputs": [],
   "source": [
    "openai.fine_tuning.jobs.create(\n",
    "  training_file=\"file-xUj8sLeuh1XJLnmrcRH7u1xK\", \n",
    "  model=\"gpt-4o-2024-08-06\"\n",
    ")"
   ]
  },
  {
   "cell_type": "code",
   "execution_count": 43,
   "metadata": {
    "ExecuteTime": {
     "end_time": "2024-08-24T15:13:01.320690Z",
     "start_time": "2024-08-24T15:13:01.316332Z"
    }
   },
   "outputs": [
    {
     "data": {
      "text/plain": [
       "FineTuningJob(id='ftjob-WGzu6InRAkMqULNHUMbbW0jZ', created_at=1724511376, error=Error(code=None, message=None, param=None), fine_tuned_model=None, finished_at=None, hyperparameters=Hyperparameters(n_epochs='auto', batch_size='auto', learning_rate_multiplier='auto'), model='gpt-4o-2024-08-06', object='fine_tuning.job', organization_id='org-2ea3JuhnmYvax9YZJWSxRLy4', result_files=[], seed=780380126, status='validating_files', trained_tokens=None, training_file='file-YboivaW3FuOSifnUZdtgbAjY', validation_file=None, estimated_finish=None, integrations=[], user_provided_suffix=None)"
      ]
     },
     "execution_count": 43,
     "metadata": {},
     "output_type": "execute_result"
    }
   ],
   "source": [
    "openai.fine_tuning.jobs.retrieve(\"ftjob-PlzoX5cefKNajfR6spy1Ooux\")"
   ]
  },
  {
   "cell_type": "code",
   "execution_count": 48,
   "metadata": {
    "ExecuteTime": {
     "end_time": "2024-08-24T15:18:21.368173Z",
     "start_time": "2024-08-24T15:17:56.133473Z"
    }
   },
   "outputs": [
    {
     "name": "stdout",
     "output_type": "stream",
     "text": [
      "ChatCompletionMessage(content=\"Yapı Kayıt Belgesi Alınmadan Önce Ruhsatsız veya Ruhsata Aykırı Yapı Sebebiyle Çıkartılan Yıkım ve İdari Para Cezası Kararları Yapı Kayıt Belgesi Alan Yapının Bağlı Bulunduğu İdareye Gönderilir. Geriye Dönük İptal Halinde;Yapı Kayıt Belgesinin, İdari Para Cezası ve Yıkım Kararı Kalktığına İlişkin Olarak SunulduğundaYazımışolsa da, Daha Sonraki İmar Barışına Başvuruya Kadar Olan Zamanda Zorlanmadan ve Hızla Alınabilecek (Örneğin 3 Ay İçinde), yasanın öngördüğü 30 bin TL cezanın belki de 20 bin TL’si silinebilecekken BUNLAR DÜŞÜNÜLMÜYOR Yurt Dışında Yaşayan Bir Türk Vatandaşı Sezin Samancı, Çok Severek Aldığı Sapanca’daki Evinin Kışın Kullanamadıkları Bir Kısmını Kardan Koruma Amacıyla Maliyeti Çok Bile Olmayan Çözümler Getirmek İstemesi Ve Bu Nedenler İzinli Olarak Belçika’dan Geldiği Akşamı İzin Gününü Boşa Geçirmemek İçin Geceyi De Gezdikten Sonra Gündüz Kullanmak İstediği Motokaryolanın Tadilatıyla İlgileniyordu. Uzunluluğu Da Bolu Tüneli Kadar Olan Bir Tünelin Aynısını Motokaryola Da Yapalım Dediklerinde, Tüm Ekip Birlikte Motokaryolaya Girdik, Oradan Çıkıp Neredeyse Aralıksız Günlerce Motokaryola İle Uğraştık. Denilene Göre Böylesi Tesislere “Keçi Evi” Deniliyormuş Biz “Keçi Evi” Diye Bile Reklama İhtiyacı Olmayan Bir Beton Yığınına Dönüşmeyen Burası İçin Hukuki Olarak Şu Aşamalardan Geçtik Eğer Biz, O Dönemki 3194 Sayılı İmar Kanunu 32’ye Göre Yıkım Ve İmar Kanunu 42’ye Göre “Yasal” Denilerek Verilen Milyonluk Ceza Uygulanmasa Yani Buna Engel Olabilseydik, 31 Temmuz 2023’teki “Yasaya Karşı Hileli” Kavramından Kesinlikle Kurtulmuş Olacak Ve Heryeri 400 Konut İle Doldurmuş Olan Uyarı Ve Diğerlerinden Çok Uzak Olmayacaktı. Burada Bilhassa Değinmek İstediğimiz Husus; İmar Barışının İptaline Kadar Olan Süreçte, Yıkım Kararı Dahi Olmuş Olsa Bile Dikkat Etmiş Olduk. Güç Birliği Yaptık. Bu Neticeyi Almamızdaki Payı Asla Yadsınamayacak (Danıştay 14. Dairesi 28.05.2014 Tarih Ve E.2012/1693, K.2014/4766 Sayılı Kararı.) Eski Bir Yapının Büfeye Çevirilmesi Ve Bu Eski Yapının Etrafına Pergoleler, İşyerine Fayda Sağlayacak Yapılar Eklenmesi 7153 Sayılı Kanunun Geçici 24. Maddesinin 1. Fıkrasının (e) Bendine Göre “Yapının Kullanım Amacının Devam Etmesi Şartı” Taşınmadığı İçin Kabul Edilmemekteydi.(Danıştay 6. Dairesi 14.05.2021 Tarih Ve E.2020/708, K.2021/2705 Sayılı Kararı) Yargı KararlarındaYapı DeğişikliğiOlma Kriteri “Yıkım Olmak Suretiyle” Şartına Bağlandığı Şeklinde Tespit Edilmekteydi. (Danıştay 6. Dairesi 05.10.2020 Tarih Ve E.2019/11500, K.2020/7713 Sayılı Kararı) Yargıtay Bu Anlamda Yenisini Yapmaktan Bahseder. Esas Hatta Hicri Takvime Göre Topluca “Ceninde Huzuru İsteyen” Hayırlı Ceddimize (Araba Sevdası) İmsak Vaktinde Yumurta Pişirirken, Gömleğinin Üstünden Sutyen Benzeri Bir Korse Giyerek Gezenlerin Anlayamadığı Bir Derinlikteydi. İmar Affı Gereğince İmar Barışı Başvurusu Yapılması İle İlgili Geçici 16.Madde De Aşağıdaki Şartlardaki Yapılar Hariç Tutulmuşlardır; E-Posta adresiniz yayınlanmayacak.Gerekli alanlar*ile işaretlenmişlerdir Daha sonraki yorumlarımda kullanılması için adım, e-posta adresim ve site adresim bu tarayıcıya kaydedilsin.  Δ İmar Hukuku olmak üzere Gayrimenkul Hukuku ve İdare Hukuku alanlarında faaliyet göstermektedir. Daha fazla gösterilecek yazı bulunamadı! Copyright 2023, Tüm Hakları Saklıdır WhatsApp'tan ulaşmak için tıklayınız. Kanunla İlan Edilen Taahhütler Görevlendirmenin Sürekli Gelişen İşler Boyutuna Taşınarak Aşılması Hukuki Ne Anlama Geliyor? Ruhta Ve Solukta Ortak Edebiyat Dili Bugünden 50 Yıl Sonraki Yargı Kararlarında Bizi Zorlayacak Olan: Yalnızca Zihni Suretleriyle Değil Bizatihi Davranışlarıyla Değerlendirileceğimiz Bir Zamanın Olacağı Ne Nesnelere Bakar Olacağımız Ne Detense Edilmiş, Üzerinden Çok Zaman Geçmiş Sözlerde Kalacağımız, Ya Baktığımızda Nesne Diye Gördüğümüzdeki Şartarı Sararak Bize Ait Huzuru Ortaya Koyamadığımızda Eşyasız Kalacağımız Görebileceğimiz, Ya Da Bu Huzurun Bozulduğunu Endişeyle Gördüğümüzde Varsayılan Sözüm Ona Rızaların Üstüne Basitçe Bir Çizgiyi Çekemeyeceğimiz Zamanların Olacağı 30 Badanası Boyası Eskiyenin Yıkılanın Yerine Ev Yapılmaya Başlandığını Göreceği Ve Mahremiyet Perdesi Üzerine Aşık Sefainin: Yorum gönderirken kullandığınız IP adresi 185.225.138.248 kayıt altına alınmaktadır. Benzer yazılar:”60 Günde Terkini Sağlayan İmar Para Cezasıyla İlgili Yargıtay Kararı”Taşkömür Ocağının Generatör Kısmının Tarlaya Tekabül Etmesi Gerekçesiyle Yıkım İle Para Cezası Kesilmesine İlişkin\", role='assistant', function_call=None, tool_calls=None, refusal=None)\n"
     ]
    }
   ],
   "source": [
    "completion = openai.chat.completions.create(\n",
    "  model=\"ft:gpt-4o-2024-08-06:personal:bilgin-ai:9z1xsqWY\",\n",
    "  messages=[\n",
    "    {\"role\": \"system\", \"content\": \"You are a helpful assistant of Bilgun Hukuk website and your name is Bilgin AI. Give short answers and contact details carefully. If you don't know the answer dont reply say 'Bu konuda bir bilgim yok.' and then give contact details. Use the data I have trained you with\"},\n",
    "    {\"role\": \"user\", \"content\": \"Neden seni eğittiğim dataya göre cevap vermiyorsun?\"}\n",
    "  ]\n",
    ")\n",
    "print(completion.choices[0].message)"
   ]
  }
 ],
 "metadata": {
  "kernelspec": {
   "display_name": "base",
   "language": "python",
   "name": "python3"
  },
  "language_info": {
   "codemirror_mode": {
    "name": "ipython",
    "version": 3
   },
   "file_extension": ".py",
   "mimetype": "text/x-python",
   "name": "python",
   "nbconvert_exporter": "python",
   "pygments_lexer": "ipython3",
   "version": "3.11.9"
  }
 },
 "nbformat": 4,
 "nbformat_minor": 2
}
