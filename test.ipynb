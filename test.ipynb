{
 "cells": [
  {
   "cell_type": "code",
   "metadata": {
    "ExecuteTime": {
     "end_time": "2024-08-24T09:34:24.208246Z",
     "start_time": "2024-08-24T09:34:23.424756Z"
    }
   },
   "source": [
    "import openai"
   ],
   "outputs": [],
   "execution_count": 1
  },
  {
   "cell_type": "code",
   "metadata": {
    "ExecuteTime": {
     "end_time": "2024-08-24T09:34:26.942953Z",
     "start_time": "2024-08-24T09:34:25.049463Z"
    }
   },
   "source": [
    "openai.api_key = \"api\"\n",
    "\n",
    "response = openai.files.create(\n",
    "    file = open(\"chat_format.jsonl\", \"rb\"),\n",
    "    purpose = \"fine-tune\"\n",
    ")"
   ],
   "outputs": [],
   "execution_count": 2
  },
  {
   "metadata": {
    "ExecuteTime": {
     "end_time": "2024-08-24T09:34:42.957121Z",
     "start_time": "2024-08-24T09:34:42.950610Z"
    }
   },
   "cell_type": "code",
   "source": "response",
   "outputs": [
    {
     "data": {
      "text/plain": [
       "FileObject(id='file-xUj8sLeuh1XJLnmrcRH7u1xK', bytes=1019647, created_at=1724492066, filename='chat_format.jsonl', object='file', purpose='fine-tune', status='processed', status_details=None)"
      ]
     },
     "execution_count": 4,
     "metadata": {},
     "output_type": "execute_result"
    }
   ],
   "execution_count": 4
  },
  {
   "metadata": {
    "ExecuteTime": {
     "end_time": "2024-08-24T09:37:58.563785Z",
     "start_time": "2024-08-24T09:37:57.103909Z"
    }
   },
   "cell_type": "code",
   "source": [
    "openai.fine_tuning.jobs.create(\n",
    "  training_file=\"file-xUj8sLeuh1XJLnmrcRH7u1xK\", \n",
    "  model=\"gpt-4o-2024-08-06\"\n",
    ")"
   ],
   "outputs": [
    {
     "data": {
      "text/plain": [
       "FineTuningJob(id='ftjob-PlzoX5cefKNajfR6spy1Ooux', created_at=1724492277, error=Error(code=None, message=None, param=None), fine_tuned_model=None, finished_at=None, hyperparameters=Hyperparameters(n_epochs='auto', batch_size='auto', learning_rate_multiplier='auto'), model='gpt-4o-2024-08-06', object='fine_tuning.job', organization_id='org-2ea3JuhnmYvax9YZJWSxRLy4', result_files=[], seed=1711748361, status='validating_files', trained_tokens=None, training_file='file-xUj8sLeuh1XJLnmrcRH7u1xK', validation_file=None, estimated_finish=None, integrations=[], user_provided_suffix=None)"
      ]
     },
     "execution_count": 7,
     "metadata": {},
     "output_type": "execute_result"
    }
   ],
   "execution_count": 7
  },
  {
   "metadata": {
    "ExecuteTime": {
     "end_time": "2024-08-24T09:38:25.217487Z",
     "start_time": "2024-08-24T09:38:24.857872Z"
    }
   },
   "cell_type": "code",
   "source": "openai.fine_tuning.jobs.retrieve(\"ftjob-PlzoX5cefKNajfR6spy1Ooux\")",
   "outputs": [
    {
     "data": {
      "text/plain": [
       "FineTuningJob(id='ftjob-PlzoX5cefKNajfR6spy1Ooux', created_at=1724492277, error=Error(code='invalid_training_file', message=\"The job failed due to an invalid training file. 'str' object has no attribute 'get'\", param='training_file'), fine_tuned_model=None, finished_at=None, hyperparameters=Hyperparameters(n_epochs='auto', batch_size='auto', learning_rate_multiplier='auto'), model='gpt-4o-2024-08-06', object='fine_tuning.job', organization_id='org-2ea3JuhnmYvax9YZJWSxRLy4', result_files=[], seed=1711748361, status='failed', trained_tokens=None, training_file='file-xUj8sLeuh1XJLnmrcRH7u1xK', validation_file=None, estimated_finish=None, integrations=[], user_provided_suffix=None)"
      ]
     },
     "execution_count": 10,
     "metadata": {},
     "output_type": "execute_result"
    }
   ],
   "execution_count": 10
  },
  {
   "cell_type": "code",
   "execution_count": 17,
   "metadata": {},
   "outputs": [
    {
     "name": "stdout",
     "output_type": "stream",
     "text": [
      "ChatCompletionMessage(content='Bu konuda bir bilgim yok. İletişim için mail: info@bilgunhukuk.com veya telefon: 0535 677 48 48.', role='assistant', function_call=None, tool_calls=None, refusal=None)\n"
     ]
    }
   ],
   "source": [
    "completion = openai.chat.completions.create(\n",
    "  model=\"ft:gpt-4o-2024-08-06:personal:bilgin-ai:9z1xsqWY\",\n",
    "  messages=[\n",
    "    {\"role\": \"system\", \"content\": \"You are a helpful assistant of Bilgun Hukuk website and your name is Bilgin AI. Give short answers and contact details carefully. If you don't know the answer dont reply say 'Bu konuda bir bilgim yok.' and then give contact details. Use the data I have trained you with\"},\n",
    "    {\"role\": \"user\", \"content\": \"Neden seni eğittiğim dataya göre cevap vermiyorsun?\"}\n",
    "  ]\n",
    ")\n",
    "print(completion.choices[0].message)"
   ]
  }
 ],
 "metadata": {
  "kernelspec": {
   "display_name": "base",
   "language": "python",
   "name": "python3"
  },
  "language_info": {
   "codemirror_mode": {
    "name": "ipython",
    "version": 3
   },
   "file_extension": ".py",
   "mimetype": "text/x-python",
   "name": "python",
   "nbconvert_exporter": "python",
   "pygments_lexer": "ipython3",
   "version": "3.11.9"
  }
 },
 "nbformat": 4,
 "nbformat_minor": 2
}
