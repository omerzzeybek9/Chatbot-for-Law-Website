{
 "cells": [
  {
   "cell_type": "code",
   "execution_count": 1,
   "metadata": {},
   "outputs": [],
   "source": [
    "import openai"
   ]
  },
  {
   "cell_type": "code",
   "execution_count": 2,
   "metadata": {},
   "outputs": [],
   "source": [
    "openai.api_key = \"api\"\n",
    "\n",
    "response = openai.files.create(\n",
    "    file = open(\"chat_format.jsonl\", \"rb\"),\n",
    "    purpose = \"fine-tune\"\n",
    ")"
   ]
  },
  {
   "cell_type": "code",
   "execution_count": 3,
   "metadata": {},
   "outputs": [],
   "source": [
    "file_id = response.id"
   ]
  },
  {
   "cell_type": "code",
   "execution_count": 4,
   "metadata": {},
   "outputs": [
    {
     "data": {
      "text/plain": [
       "FineTuningJob(id='ftjob-PpSlf73QV5q5ayQINPmSXexp', created_at=1724177272, error=Error(code=None, message=None, param=None), fine_tuned_model=None, finished_at=None, hyperparameters=Hyperparameters(n_epochs=2, batch_size='auto', learning_rate_multiplier=1.0), model='gpt-4o-mini-2024-07-18', object='fine_tuning.job', organization_id='org-2ea3JuhnmYvax9YZJWSxRLy4', result_files=[], seed=1945789806, status='validating_files', trained_tokens=None, training_file='file-NmgW6jfitCAmztxGOWGaw8tq', validation_file=None, estimated_finish=None, integrations=[], user_provided_suffix=None)"
      ]
     },
     "execution_count": 4,
     "metadata": {},
     "output_type": "execute_result"
    }
   ],
   "source": [
    "fine_tune = openai.fine_tuning.jobs.create(\n",
    "  training_file=file_id, \n",
    "  model=\"gpt-4o-mini-2024-07-18\",\n",
    "  hyperparameters={\n",
    "    \"n_epochs\":2,\n",
    "    \"learning_rate_multiplier\" : 1.0,\n",
    "  }\n",
    ")\n",
    "\n",
    "fine_tune"
   ]
  },
  {
   "cell_type": "code",
   "execution_count": 13,
   "metadata": {},
   "outputs": [
    {
     "data": {
      "text/plain": [
       "'ft:gpt-4o-mini-2024-07-18:personal::9yNfhB8x'"
      ]
     },
     "execution_count": 13,
     "metadata": {},
     "output_type": "execute_result"
    }
   ],
   "source": [
    "openai.fine_tuning.jobs.retrieve(\"ftjob-PpSlf73QV5q5ayQINPmSXexp\").fine_tuned_model"
   ]
  },
  {
   "cell_type": "code",
   "execution_count": 16,
   "metadata": {},
   "outputs": [
    {
     "name": "stdout",
     "output_type": "stream",
     "text": [
      "ChatCompletionMessage(content='Şehir: İstanbul Posta Kodu: 34353 Web: www.bilgunkav.com E-Posta: info@bilgunkav.com Tel: +90 537 823 4506', role='assistant', function_call=None, tool_calls=None, refusal=None)\n"
     ]
    }
   ],
   "source": [
    "completion = openai.chat.completions.create(\n",
    "  model=\"ft:gpt-4o-mini-2024-07-18:personal::9yNfhB8x\",\n",
    "  messages=[\n",
    "    {\"role\": \"system\", \"content\": \"You are a helpful assistant of Bilgun Hukuk website and your name is Bilgin AI. Give short answers and contact details everytime\"},\n",
    "    {\"role\": \"user\", \"content\": \"İletişim bilgileri nelerdir?\"}\n",
    "  ]\n",
    ")\n",
    "print(completion.choices[0].message)"
   ]
  }
 ],
 "metadata": {
  "kernelspec": {
   "display_name": "base",
   "language": "python",
   "name": "python3"
  },
  "language_info": {
   "codemirror_mode": {
    "name": "ipython",
    "version": 3
   },
   "file_extension": ".py",
   "mimetype": "text/x-python",
   "name": "python",
   "nbconvert_exporter": "python",
   "pygments_lexer": "ipython3",
   "version": "3.11.9"
  }
 },
 "nbformat": 4,
 "nbformat_minor": 2
}
